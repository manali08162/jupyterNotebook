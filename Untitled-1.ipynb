{
 "cells": [
  {
   "cell_type": "code",
   "execution_count": null,
   "metadata": {},
   "outputs": [],
   "source": []
  },
  {
   "cell_type": "markdown",
   "metadata": {},
   "source": [
    "#Introduction to My Notebook\n",
    "this Jupyter Notebook is created to demonstrate various concepts and examples related to data analysis and visualization that will help to understand the topic we are going to cover.\n",
    "Let's get started!"
   ]
  },
  {
   "cell_type": "markdown",
   "metadata": {},
   "source": []
  },
  {
   "cell_type": "markdown",
   "metadata": {},
   "source": [
    "Data science languages\n",
    "\n",
    "some popular data languages:\n",
    "- Python\n",
    "- R\n",
    "- Julia\n",
    "- SQL\n",
    "- Scala"
   ]
  },
  {
   "cell_type": "markdown",
   "metadata": {},
   "source": []
  },
  {
   "cell_type": "markdown",
   "metadata": {},
   "source": [
    "## Data Science Libraries\n",
    "\n",
    "Here are some popular data science libraries and frameworks:\n",
    "\n",
    "- **Python:**\n",
    "  - NumPy\n",
    "  - pandas\n",
    "  - Matplotlib\n",
    "  - Seaborn\n",
    "  - scikit-learn\n",
    "  - TensorFlow\n",
    "  - PyTorch\n",
    "\n",
    "- **R:**\n",
    "  - dplyr\n",
    "  - ggplot2\n",
    "  - tidyr\n",
    "  - caret\n",
    "  - xgboost\n",
    "\n",
    "- **Julia:**\n",
    "  - DataFrames.jl\n",
    "  - Plots.jl\n",
    "  - Flux.jl\n",
    "\n",
    "- **SQL:**\n",
    "  - SQLite\n",
    "  - PostgreSQL\n",
    "  - MySQL\n",
    "\n",
    "- **Scala:**\n",
    "  - Breeze\n",
    "  - Spark MLlib\n",
    "\n"
   ]
  },
  {
   "cell_type": "markdown",
   "metadata": {},
   "source": [
    "## Data Science Tools\n",
    "\n",
    "| Category          | Tool/Framework         | Description                                     |\n",
    "|-------------------|------------------------|-------------------------------------------------|\n",
    "| Programming       | Python                 | General-purpose language with rich libraries    |\n",
    "|                   | R                      | Statistical computing and data analysis         |\n",
    "|                   | Julia                  | High-performance numerical computing            |\n",
    "|                   | SQL                    | Query and manage relational databases           |\n",
    "|                   | Scala                  | Functional programming for big data             |\n",
    "| Data Manipulation | Pandas (Python)        | Data manipulation and analysis in Python       |\n",
    "|                   | dplyr (R)              | Data manipulation in R                          |\n",
    "| Data Visualization| Matplotlib (Python)    | Plotting library for Python                     |\n",
    "|                   | ggplot2 (R)            | Data visualization in R                         |\n",
    "|                   | Plotly (Python/R)      | Interactive plots and dashboards                |\n",
    "| Machine Learning  | scikit-learn (Python)  | Machine learning in Python                      |\n",
    "|                   | caret (R)              | Machine learning framework for R                |\n",
    "|                   | TensorFlow (Python)    | Deep learning library by Google                 |\n",
    "|                   | PyTorch (Python)       | Deep learning framework by Facebook             |\n",
    "| Big Data          | Apache Spark (Scala)   | Distributed data processing                    |\n",
    "|                   | Hadoop (Java)          | Distributed storage and processing              |\n",
    "|                   | Apache Hive (SQL)      | Data warehousing and SQL queries                |\n",
    "|                   | Apache Kafka (Scala)   | Stream processing and messaging system         |\n",
    "| Data Storage      | PostgreSQL (SQL)       | Open-source relational database                 |\n",
    "|                   | MongoDB (NoSQL)        | Document-oriented NoSQL database                |\n",
    "|                   | Elasticsearch (NoSQL)  | Search and analytics engine for data           |\n",
    "\n",
    "These are some of the common tools and frameworks used in Data Science across various categories.\n"
   ]
  },
  {
   "cell_type": "markdown",
   "metadata": {},
   "source": [
    "### Arithmetic Expression Examples\n",
    "\n",
    "In this section, we will explore various arithmetic expressions and operations. Arithmetic expressions are fundamental in mathematics and programming, and they involve basic operations like addition, subtraction, multiplication, and division.\n",
    "\n",
    "Here are some  arithmetic operations and examples:\n",
    "\n",
    "- **Addition (+):** Adding two or more numbers together. For example, 2 + 3 equals 5.\n",
    "\n",
    "- **Subtraction (-):** Subtracting one number from another. For example, 7 - 4 equals 3.\n",
    "\n",
    "- **Multiplication (*):** Multiplying two or more numbers together. For example, 5 * 6 equals 30.\n",
    "\n",
    "- **Division (/):** Dividing one number by another. For example, 10 / 2 equals 5.\n",
    "\n",
    "- **Exponentiation (^ or **):** Raising a number to a certain power. For example, 2^3 or 2**3 equals 8.\n",
    "\n",
    "- **Modulus (%):** Finding the remainder when one number is divided by another. For example, 10 % 3 equals 1.\n",
    "\n",
    "We will use these operations to perform calculations and solve mathematical problems throughout this notebook. Feel free to try out different expressions in the code cells to see the results.\n"
   ]
  },
  {
   "cell_type": "markdown",
   "metadata": {},
   "source": []
  },
  {
   "cell_type": "code",
   "execution_count": 3,
   "metadata": {},
   "outputs": [
    {
     "name": "stdout",
     "output_type": "stream",
     "text": [
      "2.0\n"
     ]
    }
   ],
   "source": [
    "# Input: Number of minutes\n",
    "m = 120\n",
    "\n",
    "# Convert minutes to hours\n",
    "h = m / 60\n",
    "\n",
    "# Display the result\n",
    "print(h)\n"
   ]
  },
  {
   "cell_type": "markdown",
   "metadata": {},
   "source": [
    "### Objectives\n",
    "\n",
    "In this notebook, we aim to accomplish the following objectives:\n",
    "\n",
    "1. Explore and demonstrate fundamental arithmetic operations.\n",
    "2. Practice variable assignment and data manipulation.\n",
    "3. Introduce key programming concepts such as loops and conditionals.\n",
    "4. Visualize data using popular data visualization libraries.\n",
    "5. Implement basic data analysis techniques.\n",
    "6. Gain familiarity with data science tools and libraries.\n",
    "7. Encourage hands-on learning through coding exercises and examples.\n",
    "\n",
    "Throughout the notebook, we will work towards achieving these objectives to build a foundational understanding of data science and programming concepts.\n"
   ]
  },
  {
   "cell_type": "markdown",
   "metadata": {},
   "source": [
    "### Author\n",
    "\n",
    "- **Author Name:** [Manali singh]\n",
    "\n",
    "Feel free to reach out to me with any questions or feedback regarding this notebook.\n"
   ]
  },
  {
   "cell_type": "markdown",
   "metadata": {},
   "source": [
    "## tittle of My Notebook\n",
    "Tools for data science Excercise"
   ]
  },
  {
   "cell_type": "markdown",
   "metadata": {},
   "source": []
  },
  {
   "cell_type": "code",
   "execution_count": 4,
   "metadata": {},
   "outputs": [
    {
     "name": "stdout",
     "output_type": "stream",
     "text": [
      "14\n",
      "24\n"
     ]
    }
   ],
   "source": [
    "m=12\n",
    "n=2\n",
    "add=m+n\n",
    "multi=m*n\n",
    "print(add)\n",
    "print(multi)"
   ]
  },
  {
   "cell_type": "markdown",
   "metadata": {},
   "source": [
    "##Tools for Data Science Excercise:\n",
    "all question are solved int the given excercise\n"
   ]
  },
  {
   "cell_type": "markdown",
   "metadata": {},
   "source": []
  }
 ],
 "metadata": {
  "kernelspec": {
   "display_name": "Python 3",
   "language": "python",
   "name": "python3"
  },
  "language_info": {
   "codemirror_mode": {
    "name": "ipython",
    "version": 3
   },
   "file_extension": ".py",
   "mimetype": "text/x-python",
   "name": "python",
   "nbconvert_exporter": "python",
   "pygments_lexer": "ipython3",
   "version": "3.11.4"
  },
  "orig_nbformat": 4
 },
 "nbformat": 4,
 "nbformat_minor": 2
}
